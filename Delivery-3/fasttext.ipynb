{
  "nbformat": 4,
  "nbformat_minor": 0,
  "metadata": {
    "colab": {
      "name": "fasttext.ipynb",
      "provenance": [],
      "collapsed_sections": []
    },
    "kernelspec": {
      "name": "python3",
      "display_name": "Python 3"
    },
    "language_info": {
      "name": "python"
    },
    "accelerator": "TPU"
  },
  "cells": [
    {
      "cell_type": "code",
      "source": [
        "from google.colab import drive\n",
        "drive.mount('/content/gdrive')"
      ],
      "metadata": {
        "colab": {
          "base_uri": "https://localhost:8080/"
        },
        "id": "SrBLu1o8J9FZ",
        "outputId": "092ce6b2-39f2-4e87-b809-9f1ee217caa1"
      },
      "execution_count": null,
      "outputs": [
        {
          "output_type": "stream",
          "name": "stdout",
          "text": [
            "Mounted at /content/gdrive\n"
          ]
        }
      ]
    },
    {
      "cell_type": "code",
      "source": [
        "%cd gdrive/MyDrive/CSE4095\\ -\\ NLP/Delivery-3/"
      ],
      "metadata": {
        "colab": {
          "base_uri": "https://localhost:8080/"
        },
        "id": "x54Ta4LHKGj7",
        "outputId": "131d6855-5a84-403a-9c93-80ae0bf8f62a"
      },
      "execution_count": null,
      "outputs": [
        {
          "output_type": "stream",
          "name": "stdout",
          "text": [
            "/content/gdrive/MyDrive/CSE4095 - NLP/Delivery-3\n"
          ]
        }
      ]
    },
    {
      "cell_type": "code",
      "source": [
        "! pip install fasttext"
      ],
      "metadata": {
        "colab": {
          "base_uri": "https://localhost:8080/"
        },
        "id": "Pa94k8cQIk_q",
        "outputId": "4b72b229-4233-42cb-9439-75799cff6ac9"
      },
      "execution_count": null,
      "outputs": [
        {
          "output_type": "stream",
          "name": "stdout",
          "text": [
            "Collecting fasttext\n",
            "  Downloading fasttext-0.9.2.tar.gz (68 kB)\n",
            "\u001b[?25l\r\u001b[K     |████▊                           | 10 kB 24.0 MB/s eta 0:00:01\r\u001b[K     |█████████▌                      | 20 kB 15.2 MB/s eta 0:00:01\r\u001b[K     |██████████████▎                 | 30 kB 11.1 MB/s eta 0:00:01\r\u001b[K     |███████████████████             | 40 kB 9.5 MB/s eta 0:00:01\r\u001b[K     |███████████████████████▉        | 51 kB 4.5 MB/s eta 0:00:01\r\u001b[K     |████████████████████████████▋   | 61 kB 5.3 MB/s eta 0:00:01\r\u001b[K     |████████████████████████████████| 68 kB 3.3 MB/s \n",
            "\u001b[?25hCollecting pybind11>=2.2\n",
            "  Using cached pybind11-2.9.2-py2.py3-none-any.whl (213 kB)\n",
            "Requirement already satisfied: setuptools>=0.7.0 in /usr/local/lib/python3.7/dist-packages (from fasttext) (57.4.0)\n",
            "Requirement already satisfied: numpy in /usr/local/lib/python3.7/dist-packages (from fasttext) (1.21.6)\n",
            "Building wheels for collected packages: fasttext\n",
            "  Building wheel for fasttext (setup.py) ... \u001b[?25l\u001b[?25hdone\n",
            "  Created wheel for fasttext: filename=fasttext-0.9.2-cp37-cp37m-linux_x86_64.whl size=3146814 sha256=60f65f201fdf8282cd672b0637f5425e596eae4eb046667dd21a744844aed8d8\n",
            "  Stored in directory: /root/.cache/pip/wheels/4e/ca/bf/b020d2be95f7641801a6597a29c8f4f19e38f9c02a345bab9b\n",
            "Successfully built fasttext\n",
            "Installing collected packages: pybind11, fasttext\n",
            "Successfully installed fasttext-0.9.2 pybind11-2.9.2\n"
          ]
        }
      ]
    },
    {
      "cell_type": "code",
      "source": [
        "import tensorflow as tf\n",
        "import fasttext\n",
        "import json\n",
        "from sklearn.preprocessing import LabelEncoder\n",
        "from sklearn.metrics import classification_report, ConfusionMatrixDisplay\n",
        "import matplotlib.pyplot as plt"
      ],
      "metadata": {
        "id": "OynDvSFYJCdE"
      },
      "execution_count": null,
      "outputs": []
    },
    {
      "cell_type": "code",
      "source": [
        "resolver = tf.distribute.cluster_resolver.TPUClusterResolver(tpu='')\n",
        "tf.config.experimental_connect_to_cluster(resolver)\n",
        "# This is the TPU initialization code that has to be at the beginning.\n",
        "tf.tpu.experimental.initialize_tpu_system(resolver)\n",
        "print(\"All devices: \", tf.config.list_logical_devices('TPU'))"
      ],
      "metadata": {
        "colab": {
          "base_uri": "https://localhost:8080/"
        },
        "id": "JZWzub2TId-W",
        "outputId": "9968bdf8-47f4-42b5-cbfd-467075a07cb7"
      },
      "execution_count": null,
      "outputs": [
        {
          "output_type": "stream",
          "name": "stdout",
          "text": [
            "INFO:tensorflow:Deallocate tpu buffers before initializing tpu system.\n"
          ]
        },
        {
          "output_type": "stream",
          "name": "stderr",
          "text": [
            "INFO:tensorflow:Deallocate tpu buffers before initializing tpu system.\n"
          ]
        },
        {
          "output_type": "stream",
          "name": "stdout",
          "text": [
            "INFO:tensorflow:Initializing the TPU system: grpc://10.90.87.194:8470\n"
          ]
        },
        {
          "output_type": "stream",
          "name": "stderr",
          "text": [
            "INFO:tensorflow:Initializing the TPU system: grpc://10.90.87.194:8470\n"
          ]
        },
        {
          "output_type": "stream",
          "name": "stdout",
          "text": [
            "INFO:tensorflow:Finished initializing TPU system.\n"
          ]
        },
        {
          "output_type": "stream",
          "name": "stderr",
          "text": [
            "INFO:tensorflow:Finished initializing TPU system.\n"
          ]
        },
        {
          "output_type": "stream",
          "name": "stdout",
          "text": [
            "All devices:  [LogicalDevice(name='/job:worker/replica:0/task:0/device:TPU:0', device_type='TPU'), LogicalDevice(name='/job:worker/replica:0/task:0/device:TPU:1', device_type='TPU'), LogicalDevice(name='/job:worker/replica:0/task:0/device:TPU:2', device_type='TPU'), LogicalDevice(name='/job:worker/replica:0/task:0/device:TPU:3', device_type='TPU'), LogicalDevice(name='/job:worker/replica:0/task:0/device:TPU:4', device_type='TPU'), LogicalDevice(name='/job:worker/replica:0/task:0/device:TPU:5', device_type='TPU'), LogicalDevice(name='/job:worker/replica:0/task:0/device:TPU:6', device_type='TPU'), LogicalDevice(name='/job:worker/replica:0/task:0/device:TPU:7', device_type='TPU')]\n"
          ]
        }
      ]
    },
    {
      "cell_type": "code",
      "source": [
        "dataset = {}\n",
        "with open('data/dataset.json', encoding='utf-8') as fr:\n",
        "    dataset = json.load(fr)"
      ],
      "metadata": {
        "id": "PaQrNuKEIuf6"
      },
      "execution_count": null,
      "outputs": []
    },
    {
      "cell_type": "code",
      "source": [
        "labels = {}\n",
        "with open('data/labels.json', encoding='utf-8') as fr:\n",
        "    labels = json.load(fr)"
      ],
      "metadata": {
        "id": "Xma8SG98OiNH"
      },
      "execution_count": null,
      "outputs": []
    },
    {
      "cell_type": "code",
      "source": [
        "splitted_data = {}\n",
        "with open('data/splitted_data.json', encoding='utf-8') as fr:\n",
        "    splitted_data = json.load(fr)"
      ],
      "metadata": {
        "id": "c8wPrcIqOkuu"
      },
      "execution_count": null,
      "outputs": []
    },
    {
      "cell_type": "code",
      "source": [
        "X_train, X_test, y_train, y_test = [], [], [], []\n",
        "\n",
        "for key in ['train', 'test']:\n",
        "    for i in range(len(splitted_data[f'X_{key}'])):\n",
        "        exec(f\"X_{key}.append(dataset[splitted_data['X_{key}'][i]])\")\n",
        "        exec(f\"y_{key}.append(splitted_data['y_{key}'][i])\")"
      ],
      "metadata": {
        "id": "KrYW4AEpOhjn"
      },
      "execution_count": null,
      "outputs": []
    },
    {
      "cell_type": "code",
      "source": [
        "with open('data/data.train.txt', 'w', encoding='utf-8') as fw:\n",
        "    for i in range(len(X_train)):\n",
        "        label = '-'.join(y_train[i].split())\n",
        "        fw.write(f'__label__{label} {X_train[i]}\\n')\n",
        "\n",
        "with open('data/data.test.txt', 'w', encoding='utf-8') as fw:\n",
        "    for i in range(len(X_test)):\n",
        "        label = '-'.join(y_test[i].split())\n",
        "        fw.write(f'__label__{label} {X_test[i]}\\n')"
      ],
      "metadata": {
        "id": "OPDVW_PXOwVR"
      },
      "execution_count": null,
      "outputs": []
    },
    {
      "cell_type": "code",
      "source": [
        "model = fasttext.train_supervised('data/data.train.txt', dim=512, epoch=50)"
      ],
      "metadata": {
        "id": "lfrkwwOYKh0g"
      },
      "execution_count": null,
      "outputs": []
    },
    {
      "cell_type": "code",
      "source": [
        "model.save_model('results/fastttext_model.bin')"
      ],
      "metadata": {
        "id": "h9ROfuHBPnwb"
      },
      "execution_count": null,
      "outputs": []
    },
    {
      "cell_type": "code",
      "source": [
        "lines = []\n",
        "with open('data/data.test.txt', encoding='utf-8') as fr:\n",
        "    lines = fr.readlines()"
      ],
      "metadata": {
        "id": "tyDeD99xS4Eo"
      },
      "execution_count": null,
      "outputs": []
    },
    {
      "cell_type": "code",
      "source": [
        "y_pred = []\n",
        "y_true = []\n",
        "for test_instance in lines:\n",
        "    text, label = ' '.join(test_instance.split()[1:]), test_instance.split()[0]\n",
        "    predicted_label = model.predict(text)[0][0]\n",
        "    y_pred.append(predicted_label[9:])\n",
        "    y_true.append(label[9:])"
      ],
      "metadata": {
        "id": "L8Ni0Gx3VcKn"
      },
      "execution_count": null,
      "outputs": []
    },
    {
      "cell_type": "code",
      "source": [
        "le = LabelEncoder()\n",
        "le.fit(y_true)\n",
        "y_true = le.transform(y_true)\n",
        "y_pred = le.transform(y_pred)"
      ],
      "metadata": {
        "id": "3Tc1_NB7VN_N"
      },
      "execution_count": null,
      "outputs": []
    },
    {
      "cell_type": "code",
      "source": [
        "cr = classification_report(y_true, y_pred, target_names=le.classes_)\n",
        "print(cr)"
      ],
      "metadata": {
        "colab": {
          "base_uri": "https://localhost:8080/"
        },
        "id": "Tn340T0EVUHx",
        "outputId": "a79e29cd-08cc-40bf-e937-c025d977abc9"
      },
      "execution_count": null,
      "outputs": [
        {
          "output_type": "stream",
          "name": "stdout",
          "text": [
            "                              precision    recall  f1-score   support\n",
            "\n",
            "       Aldatmaya-Yönelik-Suç       0.92      0.93      0.92       237\n",
            "          Cana-Kastetme-Suçu       0.87      0.73      0.80        64\n",
            "         Cinsel-Saldırı-Suçu       0.97      0.90      0.93       148\n",
            "                     Hakaret       0.74      0.68      0.71       118\n",
            "Kanuna/Yasaya-Muhalefet-Olma       0.89      0.89      0.89       352\n",
            "                       Other       0.76      0.80      0.78       493\n",
            "                      Tehdit       0.73      0.78      0.75       359\n",
            "                 Trafik-Suçu       0.93      0.93      0.93        41\n",
            "       Uyuşturucu-Madde-Suçu       0.98      0.97      0.98       232\n",
            "                    Yaralama       0.92      0.86      0.89       546\n",
            "                   undefined       0.98      0.99      0.99      2589\n",
            "       İzinsiz-Mal-Alma-Suçu       0.88      0.90      0.89       390\n",
            "\n",
            "                    accuracy                           0.92      5569\n",
            "                   macro avg       0.88      0.86      0.87      5569\n",
            "                weighted avg       0.92      0.92      0.92      5569\n",
            "\n"
          ]
        }
      ]
    },
    {
      "cell_type": "code",
      "source": [
        "disp = ConfusionMatrixDisplay.from_predictions(\n",
        "        y_true,\n",
        "        y_pred,\n",
        "        display_labels=le.classes_,\n",
        "        cmap=plt.cm.Blues,\n",
        "        normalize=None,\n",
        "    )\n",
        "disp.ax_.set_title('Confusion Matrix')\n",
        "\n",
        "plt.xticks(rotation = 90, fontsize=7)\n",
        "plt.yticks(fontsize=7)\n",
        "plt.savefig('results/fasttext_cm.png', dpi=300, bbox_inches='tight')"
      ],
      "metadata": {
        "colab": {
          "base_uri": "https://localhost:8080/",
          "height": 396
        },
        "id": "yyCc1KmCZn-b",
        "outputId": "5a7f8aa2-8771-4f0f-803e-1f9139fcddd8"
      },
      "execution_count": null,
      "outputs": [
        {
          "output_type": "display_data",
          "data": {
            "text/plain": [
              "<Figure size 432x288 with 2 Axes>"
            ],
            "image/png": "[encoded data removed]"
          },
          "metadata": {
            "needs_background": "light"
          }
        }
      ]
    }
  ]
}